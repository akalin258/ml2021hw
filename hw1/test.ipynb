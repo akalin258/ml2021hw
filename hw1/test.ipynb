{
 "cells": [
  {
   "cell_type": "code",
   "execution_count": 2,
   "id": "initial_id",
   "metadata": {
    "collapsed": true,
    "ExecuteTime": {
     "end_time": "2024-12-09T05:43:44.055266500Z",
     "start_time": "2024-12-09T05:43:44.036539400Z"
    }
   },
   "outputs": [],
   "source": [
    "import numpy as np"
   ]
  },
  {
   "cell_type": "code",
   "outputs": [],
   "source": [
    "import csv"
   ],
   "metadata": {
    "collapsed": false,
    "ExecuteTime": {
     "end_time": "2024-12-09T05:43:55.519058900Z",
     "start_time": "2024-12-09T05:43:55.503116100Z"
    }
   },
   "id": "de48d4e10cb765c7",
   "execution_count": 3
  },
  {
   "cell_type": "code",
   "outputs": [],
   "source": [
    "with open('covid.train.csv', 'r') as fp:\n",
    "    data = list(csv.reader(fp))\n",
    "    #np.array(data[1:]),不要列名,自动换成二维形式,从第1列开始\n",
    "    # data = np.array(data[1:])[:, 1:].astype(float)"
   ],
   "metadata": {
    "collapsed": false,
    "ExecuteTime": {
     "end_time": "2024-12-09T05:45:01.362172500Z",
     "start_time": "2024-12-09T05:45:01.309792200Z"
    }
   },
   "id": "2b0b30475fd29d69",
   "execution_count": 4
  },
  {
   "cell_type": "code",
   "outputs": [
    {
     "name": "stdout",
     "output_type": "stream",
     "text": [
      "2701\n"
     ]
    }
   ],
   "source": [
    "print(len(data))"
   ],
   "metadata": {
    "collapsed": false,
    "ExecuteTime": {
     "end_time": "2024-12-09T05:45:18.146514600Z",
     "start_time": "2024-12-09T05:45:18.070429Z"
    }
   },
   "id": "6e2aaa28123a3770",
   "execution_count": 5
  },
  {
   "cell_type": "code",
   "outputs": [],
   "source": [
    "data = np.array(data[1:])[:, 1:].astype(float)"
   ],
   "metadata": {
    "collapsed": false,
    "ExecuteTime": {
     "end_time": "2024-12-09T05:45:37.186978Z",
     "start_time": "2024-12-09T05:45:37.051934400Z"
    }
   },
   "id": "8717e9bfc3c73721",
   "execution_count": 6
  },
  {
   "cell_type": "code",
   "outputs": [
    {
     "name": "stdout",
     "output_type": "stream",
     "text": [
      "(2700, 94)\n"
     ]
    }
   ],
   "source": [
    "print(data.shape)\n",
    "#0-39 col:one hot vector\n",
    "#40-92 col:some features\n",
    "#45,63,81:travel_outside_state\n",
    "#93:label\n",
    "#75,57:test_positive\n",
    "#可以提取一些向量list(range(40,93)),这是左闭右开"
   ],
   "metadata": {
    "collapsed": false,
    "ExecuteTime": {
     "end_time": "2024-12-09T05:50:19.359739600Z",
     "start_time": "2024-12-09T05:50:19.341733800Z"
    }
   },
   "id": "ad414d0054e7527f",
   "execution_count": 13
  },
  {
   "cell_type": "code",
   "outputs": [
    {
     "name": "stdout",
     "output_type": "stream",
     "text": [
      "[ 1.         0.         0.         0.         0.         0.\n",
      "  0.         0.         0.         0.         0.         0.\n",
      "  0.         0.         0.         0.         0.         0.\n",
      "  0.         0.         0.         0.         0.         0.\n",
      "  0.         0.         0.         0.         0.         0.\n",
      "  0.         0.         0.         0.         0.         0.\n",
      "  0.         0.         0.         0.         0.81461    0.7713562\n",
      " 25.6489069 21.2420632 84.6446717 13.4624747 36.519841  63.1390944\n",
      " 23.8351187 44.7260552 16.9469288  1.7162617 15.4941927 12.0432752\n",
      " 17.0006473 53.4393163 43.279629  19.586492   0.8389952  0.8077665\n",
      " 25.6791006 21.2802696 84.005294  13.4677158 36.6378869 63.3186499\n",
      " 23.6888817 44.3851661 16.4635514  1.664819  15.2992283 12.0515055\n",
      " 16.5522637 53.2567949 43.6227275 20.1518381  0.8978015  0.8878931\n",
      " 26.0605436 21.5038315 84.4386175 13.0386108 36.4291187 62.4345385\n",
      " 23.8124113 43.4304231 16.1515266  1.602635  15.4094491 12.0886885\n",
      " 16.7020857 53.9915494 43.6042293 20.7049346]\n"
     ]
    }
   ],
   "source": [
    "print(data[0])"
   ],
   "metadata": {
    "collapsed": false,
    "ExecuteTime": {
     "end_time": "2024-12-09T05:46:48.697023700Z",
     "start_time": "2024-12-09T05:46:48.686272600Z"
    }
   },
   "id": "76f54dec9da3bea1",
   "execution_count": 9
  },
  {
   "cell_type": "code",
   "outputs": [
    {
     "name": "stdout",
     "output_type": "stream",
     "text": [
      "[2, 3, 4]\n"
     ]
    }
   ],
   "source": [
    "print(list(range(2,5)))"
   ],
   "metadata": {
    "collapsed": false,
    "ExecuteTime": {
     "end_time": "2024-12-09T05:49:54.685732300Z",
     "start_time": "2024-12-09T05:49:54.663973100Z"
    }
   },
   "id": "852457d838b2299c",
   "execution_count": 12
  },
  {
   "cell_type": "code",
   "outputs": [
    {
     "name": "stdout",
     "output_type": "stream",
     "text": [
      "[0, 1, 2, 3, 4]\n"
     ]
    }
   ],
   "source": [
    "print(list(range(5)))"
   ],
   "metadata": {
    "collapsed": false,
    "ExecuteTime": {
     "end_time": "2024-12-09T05:51:54.096369400Z",
     "start_time": "2024-12-09T05:51:54.063012500Z"
    }
   },
   "id": "e335fc150edc6833",
   "execution_count": 14
  },
  {
   "cell_type": "code",
   "outputs": [
    {
     "name": "stdout",
     "output_type": "stream",
     "text": [
      "[0, 1, 2, 3, 4, 9, 10]\n"
     ]
    }
   ],
   "source": [
    "print(list(range(5))+[9]+[10])"
   ],
   "metadata": {
    "collapsed": false,
    "ExecuteTime": {
     "end_time": "2024-12-09T06:50:41.482268Z",
     "start_time": "2024-12-09T06:50:41.469330600Z"
    }
   },
   "id": "eb6116ef8ff637ee",
   "execution_count": 15
  },
  {
   "cell_type": "code",
   "outputs": [
    {
     "name": "stdout",
     "output_type": "stream",
     "text": [
      "19.586492\n",
      "20.1518381\n"
     ]
    }
   ],
   "source": [
    "#59,77\n",
    "print(data[0][57])\n",
    "print(data[0][75])"
   ],
   "metadata": {
    "collapsed": false,
    "ExecuteTime": {
     "end_time": "2024-12-09T06:55:30.881223100Z",
     "start_time": "2024-12-09T06:55:30.856668400Z"
    }
   },
   "id": "7865400d9f24d21e",
   "execution_count": 19
  },
  {
   "cell_type": "code",
   "outputs": [],
   "source": [],
   "metadata": {
    "collapsed": false
   },
   "id": "c5783d46340ea0d9"
  }
 ],
 "metadata": {
  "kernelspec": {
   "display_name": "Python 3",
   "language": "python",
   "name": "python3"
  },
  "language_info": {
   "codemirror_mode": {
    "name": "ipython",
    "version": 2
   },
   "file_extension": ".py",
   "mimetype": "text/x-python",
   "name": "python",
   "nbconvert_exporter": "python",
   "pygments_lexer": "ipython2",
   "version": "2.7.6"
  }
 },
 "nbformat": 4,
 "nbformat_minor": 5
}
